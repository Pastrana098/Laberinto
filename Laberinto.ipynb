{
  "nbformat": 4,
  "nbformat_minor": 0,
  "metadata": {
    "colab": {
      "name": "Laberinto",
      "provenance": [],
      "collapsed_sections": []
    },
    "kernelspec": {
      "name": "python3",
      "display_name": "Python 3"
    },
    "language_info": {
      "name": "python"
    }
  },
  "cells": [
    {
      "cell_type": "code",
      "metadata": {
        "id": "Im6rSdMHU-Fz"
      },
      "source": [
        "class StackADT:\n",
        "   def __init__( self ):\n",
        "       self.data = list()\n",
        "       self.tope = 0\n",
        "\n",
        "   def is_empty( self ): \n",
        "       return self.tope == 0\n",
        "   \n",
        "   def length( self ):\n",
        "       return self.tope \n",
        "\n",
        "   def pop( self ):\n",
        "       if not self.is_empty():\n",
        "           self.tope -= 1\n",
        "           return self.data.pop()\n",
        "\n",
        "   def peek( self ):\n",
        "       return self.data[ self.tope - 1 ]\n",
        "\n",
        "   def push( self , value ):\n",
        "       self.data.append( value )\n",
        "       self.tope +=1\n",
        "\n",
        "   def to_string( self ):\n",
        "       print(\"Estado de la pila:\")\n",
        "       for elem in self.data[ : :-1]:\n",
        "           print(f\"| { elem } |\")"
      ],
      "execution_count": null,
      "outputs": []
    },
    {
      "cell_type": "code",
      "metadata": {
        "id": "-p4vYIHOaBvQ"
      },
      "source": [
        "class Array2D():\n",
        "  def __init__(self, ren, col):\n",
        "    self.__columnas = col\n",
        "    self.__renglones = ren\n",
        "    self.__data = [[ 0 for i in range(col)]for i in range (ren)]\n",
        "\n",
        "  def to_string(self):\n",
        "    for i in range(self.__renglones):\n",
        "      print(self.__data[i])\n",
        "\n",
        "  def clear(self, dato):\n",
        "    for i in range (self.__renglones):\n",
        "      for x in range(self.__columnas):\n",
        "        self.__data[i][x] = dato\n",
        "\n",
        "  def get_row_size(self):\n",
        "    return self.__renglones\n",
        "\n",
        "  def get_col_size(self):\n",
        "    return self.__columnas\n",
        "\n",
        "  def set_item(self,ren,col,dato):\n",
        "    self.__data[ren][col] = dato\n",
        "\n",
        "  def get_item(self,ren,col):\n",
        "    return self.__data[ren][col]"
      ],
      "execution_count": null,
      "outputs": []
    },
    {
      "cell_type": "code",
      "metadata": {
        "colab": {
          "base_uri": "https://localhost:8080/",
          "height": 135
        },
        "id": "9x0lau_zHTtg",
        "outputId": "830e5575-8533-4813-e284-75cae21ca905"
      },
      "source": [
        "class LaberintoADT:\n",
        "    def __init__( self , archivo ):\n",
        "        self.laberinto = None #Array2D\n",
        "\t      self.camino = StackADT()\n",
        "\t      self.inicializa( archivo )\n",
        "\t      self.laberinto.to_string()\n",
        "\t      print(\"Stack\")\n",
        "\t      self.camino.to_string()\n",
        "\n",
        "    \"\"\"\n",
        "    P -> Pared\n",
        "    c -> Corredor\n",
        "    E -> Entrada\t\n",
        "    S -> Salida\n",
        "    X -> Ya visitado\n",
        "    \"\"\"\n",
        "    def inicializa( self , archivo ¿):\n",
        "        entrada = open( archivo , 'rt' )\n",
        "\t      self.laberinto = Array2D( int(entrada.readline().strip()) ,int(entr\n",
        "\t      self.laberinto.clear('p')\n",
        "\t      lineas = entrada.readlines()\n",
        "\t      #print(\"Lineas:\")\n",
        "\t      #print(lineas)\n",
        "\t      for r in range( len(lineas)):\n",
        "\t          lineaBis = lineas[r].strip().split(',')\n",
        "\t          for c in  range( len(lineaBis )) :\n",
        "\t              self.laberinto.set_item(r,c,lineaBis[c])\n",
        "\n",
        "\t      # buscar la entrada\n",
        "        for r in range( self.laberinto.get_row_size() ):\n",
        "\t          for c in range( self.laberinto.get_col_size() ):\n",
        " \t   \t          if self.laberinto.get_item() == 'E':\n",
        "\t  \t              self.camino.push( (r,c) )\n",
        "  "
      ],
      "execution_count": null,
      "outputs": [
        {
          "output_type": "error",
          "ename": "TabError",
          "evalue": "ignored",
          "traceback": [
            "\u001b[0;36m  File \u001b[0;32m\"<ipython-input-5-b8a220e3b348>\"\u001b[0;36m, line \u001b[0;32m4\u001b[0m\n\u001b[0;31m    self.camino = StackADT()\u001b[0m\n\u001b[0m                            ^\u001b[0m\n\u001b[0;31mTabError\u001b[0m\u001b[0;31m:\u001b[0m inconsistent use of tabs and spaces in indentation\n"
          ]
        }
      ]
    },
    {
      "cell_type": "code",
      "metadata": {
        "colab": {
          "base_uri": "https://localhost:8080/",
          "height": 172
        },
        "id": "j8CBjgm4HYEJ",
        "outputId": "0b04b8d6-e8a4-4133-d64b-da4b53ce4b9a"
      },
      "source": [
        "    juego = LaberintoADT('entrada.txt')"
      ],
      "execution_count": null,
      "outputs": [
        {
          "output_type": "error",
          "ename": "NameError",
          "evalue": "ignored",
          "traceback": [
            "\u001b[0;31m---------------------------------------------------------------------------\u001b[0m",
            "\u001b[0;31mNameError\u001b[0m                                 Traceback (most recent call last)",
            "\u001b[0;32m<ipython-input-16-c2f30af21b57>\u001b[0m in \u001b[0;36m<module>\u001b[0;34m()\u001b[0m\n\u001b[0;32m----> 1\u001b[0;31m \u001b[0mjuego\u001b[0m \u001b[0;34m=\u001b[0m \u001b[0mLaberintoADT\u001b[0m\u001b[0;34m(\u001b[0m\u001b[0;34m'entrada.txt'\u001b[0m\u001b[0;34m)\u001b[0m\u001b[0;34m\u001b[0m\u001b[0;34m\u001b[0m\u001b[0m\n\u001b[0m",
            "\u001b[0;31mNameError\u001b[0m: name 'LaberintoADT' is not defined"
          ]
        }
      ]
    }
  ]
}